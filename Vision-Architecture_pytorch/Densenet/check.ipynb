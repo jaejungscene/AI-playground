{
 "cells": [
  {
   "cell_type": "code",
   "execution_count": 13,
   "metadata": {},
   "outputs": [
    {
     "name": "stdout",
     "output_type": "stream",
     "text": [
      "#params of model: 7,978,856\n",
      "output's shape:  (2, 1000)\n"
     ]
    }
   ],
   "source": [
    "\"\"\"\n",
    "paper: https://arxiv.org/pdf/1608.06993.pdf\n",
    "\"\"\"\n",
    "import torch\n",
    "import densenet as m \n",
    "from timm.models.densenet import default_cfgs\n",
    "\n",
    "model_cfg = m.model_cfg[\"densenet121\"]\n",
    "model = m.DenseNet(\n",
    "    block_cfg=model_cfg,\n",
    "    growth_rate=32,\n",
    "    bottleneck_size=4,\n",
    "    num_classes=1000\n",
    ")\n",
    "\n",
    "print('#params of model: {:,}'.format(sum([p.data.nelement() for p in model.parameters()])))\n",
    "\n",
    "state_dict = torch.hub.load_state_dict_from_url(default_cfgs[\"densenet121\"][\"url\"])\n",
    "model.load_state_dict(state_dict)\n",
    "x = torch.randn((2,3,224,224))\n",
    "print(\"output's shape: \", tuple(model(x).shape))"
   ]
  }
 ],
 "metadata": {
  "kernelspec": {
   "display_name": "torch",
   "language": "python",
   "name": "python3"
  },
  "language_info": {
   "codemirror_mode": {
    "name": "ipython",
    "version": 3
   },
   "file_extension": ".py",
   "mimetype": "text/x-python",
   "name": "python",
   "nbconvert_exporter": "python",
   "pygments_lexer": "ipython3",
   "version": "3.8.13 (default, Mar 28 2022, 11:38:47) \n[GCC 7.5.0]"
  },
  "orig_nbformat": 4,
  "vscode": {
   "interpreter": {
    "hash": "65fe116ec29312474b580f4ecbad52a94f46ea3a142b15e85ff8e68848a207e7"
   }
  }
 },
 "nbformat": 4,
 "nbformat_minor": 2
}
