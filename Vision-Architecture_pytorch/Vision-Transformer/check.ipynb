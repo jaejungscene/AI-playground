{
 "cells": [
  {
   "attachments": {},
   "cell_type": "markdown",
   "metadata": {},
   "source": [
    "## vision transformer (https://arxiv.org/pdf/2010.11929.pdf)"
   ]
  },
  {
   "cell_type": "code",
   "execution_count": 1,
   "metadata": {},
   "outputs": [
    {
     "name": "stderr",
     "output_type": "stream",
     "text": [
      "/opt/conda/lib/python3.8/site-packages/torchvision/io/image.py:13: UserWarning: Failed to load image Python extension: /opt/conda/lib/python3.8/site-packages/torchvision/image.so: undefined symbol: _ZNK3c1010TensorImpl36is_contiguous_nondefault_policy_implENS_12MemoryFormatE\n",
      "  warn(f\"Failed to load image Python extension: {e}\")\n"
     ]
    }
   ],
   "source": [
    "import timm\n",
    "import torch"
   ]
  },
  {
   "cell_type": "code",
   "execution_count": 24,
   "metadata": {},
   "outputs": [
    {
     "name": "stdout",
     "output_type": "stream",
     "text": [
      "the number of model parameters: 5,717,416\n",
      "3\n",
      "192\n",
      "\n",
      "the number of model parameters: 22,050,664\n",
      "6\n",
      "384\n",
      "\n",
      "the number of model parameters: 86,567,656\n",
      "12\n",
      "768\n",
      "\n"
     ]
    }
   ],
   "source": [
    "vit = timm.create_model(\"vit_tiny_patch16_224\")\n",
    "print('the number of model parameters: {:,}'.format(sum([p.data.nelement() for p in vit.parameters()])))\n",
    "print(vit.blocks[0].attn.num_heads)\n",
    "print(vit.embed_dim)\n",
    "print()\n",
    "\n",
    "vit = timm.create_model(\"vit_small_patch16_224\")\n",
    "print('the number of model parameters: {:,}'.format(sum([p.data.nelement() for p in vit.parameters()])))\n",
    "print(vit.blocks[0].attn.num_heads)\n",
    "print(vit.embed_dim)\n",
    "print()\n",
    "\n",
    "vit = timm.create_model(\"vit_base_patch16_224\")\n",
    "print('the number of model parameters: {:,}'.format(sum([p.data.nelement() for p in vit.parameters()])))\n",
    "print(vit.blocks[0].attn.num_heads)\n",
    "print(vit.embed_dim)\n",
    "print()\n",
    "# print(vit)\n",
    "# x = torch.randn((1,3,224,224))\n",
    "# x1 = vit.patch_embed(x)\n",
    "# print(x1.shape)\n",
    "# print(x1[0,0,0])\n",
    "# x2 = vit._pos_embed(x1)\n",
    "# print(x2.shape)\n",
    "# print(x2[0,0,0])\n",
    "# print(vit.pos_embed.shape)\n",
    "# print(vit.pos_embed[0,0,0])\n"
   ]
  },
  {
   "cell_type": "code",
   "execution_count": 15,
   "metadata": {},
   "outputs": [
    {
     "name": "stdout",
     "output_type": "stream",
     "text": [
      "torch.Size([151296])\n"
     ]
    },
    {
     "data": {
      "text/plain": [
       "[<matplotlib.lines.Line2D at 0x7f302c534760>]"
      ]
     },
     "execution_count": 15,
     "metadata": {},
     "output_type": "execute_result"
    },
    {
     "data": {
      "image/png": "[encoded data removed]",
      "text/plain": [
       "<Figure size 640x480 with 1 Axes>"
      ]
     },
     "metadata": {},
     "output_type": "display_data"
    }
   ],
   "source": [
    "print(vit.pos_embed.flatten(0).shape)\n",
    "import matplotlib.pyplot as plt\n",
    "plt.plot(vit.pos_embed.flatten(0).detach().cpu())"
   ]
  },
  {
   "cell_type": "code",
   "execution_count": 23,
   "metadata": {},
   "outputs": [
    {
     "data": {
      "text/plain": [
       "Attention(\n",
       "  (qkv): Linear(in_features=768, out_features=2304, bias=True)\n",
       "  (attn_drop): Dropout(p=0.0, inplace=False)\n",
       "  (proj): Linear(in_features=768, out_features=768, bias=True)\n",
       "  (proj_drop): Dropout(p=0.0, inplace=False)\n",
       ")"
      ]
     },
     "execution_count": 23,
     "metadata": {},
     "output_type": "execute_result"
    }
   ],
   "source": [
    "vit.blocks[0]."
   ]
  },
  {
   "cell_type": "code",
   "execution_count": 95,
   "metadata": {},
   "outputs": [
    {
     "name": "stdout",
     "output_type": "stream",
     "text": [
      "tensor([[[[1., 1.],\n",
      "          [1., 1.]]],\n",
      "\n",
      "\n",
      "        [[[1., 1.],\n",
      "          [1., 1.]]],\n",
      "\n",
      "\n",
      "        [[[1., 1.],\n",
      "          [1., 1.]]]])\n",
      "----------------------------------------------------------------------------------------------------\n",
      "torch.Size([3, 1, 1, 1])\n",
      "tensor([[[[0.]]],\n",
      "\n",
      "\n",
      "        [[[1.]]],\n",
      "\n",
      "\n",
      "        [[[0.]]]])\n",
      "----------------------------------------------------------------------------------------------------\n",
      "torch.Size([3, 1, 1, 1])\n",
      "tensor([[[[0.]]],\n",
      "\n",
      "\n",
      "        [[[5.]]],\n",
      "\n",
      "\n",
      "        [[[0.]]]])\n",
      "----------------------------------------------------------------------------------------------------\n",
      "tensor([[[[0., 0.],\n",
      "          [0., 0.]]],\n",
      "\n",
      "\n",
      "        [[[5., 5.],\n",
      "          [5., 5.]]],\n",
      "\n",
      "\n",
      "        [[[0., 0.],\n",
      "          [0., 0.]]]])\n",
      "----------------------------------------------------------------------------------------------------\n"
     ]
    }
   ],
   "source": [
    "x = torch.ones((3,1,2,2))\n",
    "print(x)\n",
    "print(\"-\"*100)\n",
    "\n",
    "\n",
    "def drop_path(x, drop_prob: float = 0., training: bool = False, scale_by_keep: bool = True):\n",
    "    \"\"\"Drop paths (Stochastic Depth) per sample (when applied in main path of residual blocks).\n",
    "    This is the same as the DropConnect impl I created for EfficientNet, etc networks, however,\n",
    "    the original name is misleading as 'Drop Connect' is a different form of dropout in a separate paper...\n",
    "    See discussion: https://github.com/tensorflow/tpu/issues/494#issuecomment-532968956 ... I've opted for\n",
    "    changing the layer and argument names to 'drop path' rather than mix DropConnect as a layer name and use\n",
    "    'survival rate' as the argument.\n",
    "    \"\"\"\n",
    "    if drop_prob == 0. or not training:\n",
    "        return x\n",
    "    keep_prob = 1 - drop_prob\n",
    "    shape = (x.shape[0],) + (1,) * (x.ndim - 1)  # work with diff dim tensors, not just 2D ConvNets\n",
    "    random_tensor = x.new_empty(shape).bernoulli_(keep_prob)\n",
    "    print(random_tensor.shape)\n",
    "    print(random_tensor)\n",
    "    print('-'*100)\n",
    "    if keep_prob > 0.0 and scale_by_keep:\n",
    "        random_tensor.div_(keep_prob)\n",
    "    print(random_tensor.shape)\n",
    "    print(random_tensor)\n",
    "    print('-'*100)\n",
    "    return x * random_tensor\n",
    "\n",
    "\n",
    "x = drop_path(x, 0.8, True, True)\n",
    "print(x)\n",
    "print('-'*100)"
   ]
  },
  {
   "cell_type": "code",
   "execution_count": 29,
   "metadata": {},
   "outputs": [
    {
     "name": "stdout",
     "output_type": "stream",
     "text": [
      "(2, 1, 1, 1)\n",
      "torch.Size([2, 1, 1, 1])\n"
     ]
    }
   ],
   "source": [
    "shape = (2,) + (1,) * (3)\n",
    "print(shape)\n",
    "print(x.new_empty(shape).shape)"
   ]
  }
 ],
 "metadata": {
  "kernelspec": {
   "display_name": "Python 3.8.12 ('base')",
   "language": "python",
   "name": "python3"
  },
  "language_info": {
   "codemirror_mode": {
    "name": "ipython",
    "version": 3
   },
   "file_extension": ".py",
   "mimetype": "text/x-python",
   "name": "python",
   "nbconvert_exporter": "python",
   "pygments_lexer": "ipython3",
   "version": "3.8.12 (default, Oct 12 2021, 13:49:34) \n[GCC 7.5.0]"
  },
  "orig_nbformat": 4,
  "vscode": {
   "interpreter": {
    "hash": "d4d1e4263499bec80672ea0156c357c1ee493ec2b1c70f0acce89fc37c4a6abe"
   }
  }
 },
 "nbformat": 4,
 "nbformat_minor": 2
}
