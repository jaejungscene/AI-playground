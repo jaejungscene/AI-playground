{
 "cells": [
  {
   "cell_type": "code",
   "execution_count": 5,
   "metadata": {},
   "outputs": [
    {
     "name": "stdout",
     "output_type": "stream",
     "text": [
      "id of x:    140052379306240\n",
      "x:          tensor([ 1.0000, -0.5000,  1.5000])\n",
      "==================================================\n",
      "id of x:    140052379306240\n",
      "id of out1: 140052447085408\n",
      "out1:       tensor([1.0000, 0.0000, 1.5000])\n",
      "x:          tensor([ 1.0000, -0.5000,  1.5000])\n",
      "out1:       tensor([123.0000,   0.0000,   1.5000])\n",
      "==================================================\n",
      "id of x:    140052379306240\n",
      "id of out2: 140052379306240\n",
      "out2:       tensor([1.0000, 0.0000, 1.5000])\n",
      "x:          tensor([123.0000,   0.0000,   1.5000])\n",
      "out2:       tensor([123.0000,   0.0000,   1.5000])\n"
     ]
    }
   ],
   "source": [
    "\"\"\"\n",
    "if inplace is True,\n",
    "id of input Tensor and id of output Tensor is same each other.\n",
    "\n",
    "this means that if inplace is True, \n",
    "the result of the operation is directly injected\n",
    "into the same memory space.\n",
    "\"\"\"\n",
    "import torch\n",
    "import torch.nn as nn\n",
    "\n",
    "x = torch.tensor([1.0, -0.5, 1.5])\n",
    "print(f\"id of x:    {id(x)}\")\n",
    "print(f\"x:          {x}\")\n",
    "print(\"=\"*50)\n",
    "\n",
    "## x and out1 is not the same.\n",
    "out1 = nn.ReLU()(x)\n",
    "print(f\"id of x:    {id(x)}\")\n",
    "print(f\"id of out1: {id(out1)}\")\n",
    "print(f\"out1:       {out1}\")\n",
    "out1[0] = 123.\n",
    "print(f\"x:          {x}\") \n",
    "print(f\"out1:       {out1}\") \n",
    "print(\"=\"*50)\n",
    "\n",
    "## x and out2 is not the same.\n",
    "out2 = nn.ReLU(inplace=True)(x)\n",
    "print(f\"id of x:    {id(x)}\")\n",
    "print(f\"id of out2: {id(out2)}\")\n",
    "print(f\"out2:       {out2}\")\n",
    "out2[0] = 123.\n",
    "print(f\"x:          {x}\")\n",
    "print(f\"out2:       {out2}\")"
   ]
  }
 ],
 "metadata": {
  "kernelspec": {
   "display_name": "torch",
   "language": "python",
   "name": "python3"
  },
  "language_info": {
   "codemirror_mode": {
    "name": "ipython",
    "version": 3
   },
   "file_extension": ".py",
   "mimetype": "text/x-python",
   "name": "python",
   "nbconvert_exporter": "python",
   "pygments_lexer": "ipython3",
   "version": "3.8.13"
  },
  "orig_nbformat": 4,
  "vscode": {
   "interpreter": {
    "hash": "65fe116ec29312474b580f4ecbad52a94f46ea3a142b15e85ff8e68848a207e7"
   }
  }
 },
 "nbformat": 4,
 "nbformat_minor": 2
}
