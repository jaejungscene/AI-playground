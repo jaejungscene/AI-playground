{
 "cells": [
  {
   "cell_type": "code",
   "execution_count": 13,
   "metadata": {},
   "outputs": [
    {
     "name": "stdout",
     "output_type": "stream",
     "text": [
      "tensor(1.7147)\n",
      "tensor(1.7147)\n",
      "tensor(3.5016)\n"
     ]
    }
   ],
   "source": [
    "import torch\n",
    "from monai.losses import DiceCELoss as monaiDiceCELoss\n",
    "from diceloss import DiceLoss\n",
    "from diceloss import DiceCELoss as myDiceCELoss\n",
    "from torch.nn.modules.loss import CrossEntropyLoss\n",
    "\n",
    "num_classes = 9\n",
    "lamda = 0.5\n",
    "B = 2\n",
    "SIZE = 224\n",
    "\n",
    "y_hat = torch.randn((B,num_classes,SIZE,SIZE))\n",
    "y = torch.randint(low=0, high=num_classes, size=(B,SIZE,SIZE))\n",
    "\n",
    "celoss = CrossEntropyLoss()(y_hat, y)\n",
    "diceloss = DiceLoss(num_classes, softmax=True)(y_hat, y)\n",
    "mydiceceloss = lamda*celoss + (1-lamda)*diceloss\n",
    "print(mydiceceloss)\n",
    "\n",
    "mydiceceloss01 = myDiceCELoss(num_classes, 0.5, True)(y_hat, y)\n",
    "print(mydiceceloss01)\n",
    "\n",
    "y = y.unsqueeze(dim=1)\n",
    "monaidiceceloss = monaiDiceCELoss(\n",
    "    to_onehot_y=True, softmax=True, reduction='mean'\n",
    "    )(\n",
    "        y_hat, y\n",
    "    )\n",
    "print(monaidiceceloss)"
   ]
  },
  {
   "cell_type": "code",
   "execution_count": 16,
   "metadata": {},
   "outputs": [
    {
     "name": "stdout",
     "output_type": "stream",
     "text": [
      "1 c\n",
      "<__main__.Namespace object at 0x7f09a712bd90>\n"
     ]
    }
   ],
   "source": [
    "class Namespace:\n",
    "    def __init__(self, **kwargs):\n",
    "        self.__dict__.update(kwargs)\n",
    "args = Namespace(a=1, b='c')\n",
    "print(args.a, args.b)\n",
    "print(args)"
   ]
  }
 ],
 "metadata": {
  "kernelspec": {
   "display_name": "torch",
   "language": "python",
   "name": "python3"
  },
  "language_info": {
   "codemirror_mode": {
    "name": "ipython",
    "version": 3
   },
   "file_extension": ".py",
   "mimetype": "text/x-python",
   "name": "python",
   "nbconvert_exporter": "python",
   "pygments_lexer": "ipython3",
   "version": "3.8.13"
  },
  "orig_nbformat": 4,
  "vscode": {
   "interpreter": {
    "hash": "65fe116ec29312474b580f4ecbad52a94f46ea3a142b15e85ff8e68848a207e7"
   }
  }
 },
 "nbformat": 4,
 "nbformat_minor": 2
}
