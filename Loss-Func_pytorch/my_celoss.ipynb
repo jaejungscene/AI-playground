{
 "cells": [
  {
   "cell_type": "code",
   "execution_count": 35,
   "metadata": {},
   "outputs": [],
   "source": [
    "import torch\n",
    "import torch.nn as nn"
   ]
  },
  {
   "cell_type": "code",
   "execution_count": 60,
   "metadata": {},
   "outputs": [
    {
     "name": "stdout",
     "output_type": "stream",
     "text": [
      "tensor(0.2366)\n",
      "tensor(0.2366)\n"
     ]
    }
   ],
   "source": [
    "inputs = torch.Tensor([[0.,1.], [0.,1.], [1.,0.], [5.,0.]])\n",
    "labels = torch.Tensor([1,1,0,0]).type(torch.LongTensor)\n",
    "\n",
    "\n",
    "loss_func = nn.CrossEntropyLoss()\n",
    "print(loss_func(inputs, labels))\n",
    "\n",
    "\n",
    "def myCrossEntropyLoss(inputs: torch.Tensor, labels: torch.Tensor) -> torch.Tensor:\n",
    "    r\"\"\"\n",
    "    this function is equal to general Cross Entropy Loss, which is not weighted version.\n",
    "    \"\"\"\n",
    "    loss = 0\n",
    "    for i in range(len(inputs)):\n",
    "        denominator = torch.exp(inputs[i]).sum()\n",
    "        target = labels[i]\n",
    "        loss += (-torch.log(torch.exp(inputs[i,target])/denominator))\n",
    "    return loss/len(inputs)\n",
    "\n",
    "print(myCrossEntropyLoss(inputs, labels))"
   ]
  },
  {
   "cell_type": "code",
   "execution_count": 52,
   "metadata": {},
   "outputs": [
    {
     "name": "stdout",
     "output_type": "stream",
     "text": [
      "tensor([[-1.3133, -0.3133],\n",
      "        [-1.3133, -0.3133],\n",
      "        [-0.3133, -1.3133],\n",
      "        [-0.3133, -1.3133]])\n",
      "tensor(-1.)\n"
     ]
    },
    {
     "name": "stderr",
     "output_type": "stream",
     "text": [
      "/tmp/ipykernel_15722/3733811695.py:5: UserWarning: Implicit dimension choice for log_softmax has been deprecated. Change the call to include dim=X as an argument.\n",
      "  print(logsoftmax(inputs))\n"
     ]
    }
   ],
   "source": [
    "inputs = torch.Tensor([[0.,1.], [0.,1.], [1.,0.], [1.,0.]])\n",
    "labels = torch.Tensor([1,1,0,0]).type(torch.LongTensor)\n",
    "\n",
    "logsoftmax = nn.LogSoftmax()\n",
    "print(logsoftmax(inputs))\n",
    "\n",
    "nlloss = nn.NLLLoss()\n",
    "print(nlloss(inputs, labels))"
   ]
  },
  {
   "cell_type": "code",
   "execution_count": 47,
   "metadata": {},
   "outputs": [
    {
     "name": "stdout",
     "output_type": "stream",
     "text": [
      "tensor([[-1.3133, -0.3133],\n",
      "        [-1.3133, -0.3133],\n",
      "        [-0.3133, -1.3133],\n",
      "        [-0.3133, -1.3133]])\n",
      "\n",
      "tensor([[-1.3133, -0.3133],\n",
      "        [-1.3133, -0.3133],\n",
      "        [-0.3133, -1.3133],\n",
      "        [-0.3133, -1.3133]])\n",
      "\n",
      "tensor([[-1.3133, -0.3133],\n",
      "        [-1.3133, -0.3133],\n",
      "        [-0.3133, -1.3133],\n",
      "        [-0.3133, -1.3133]])\n",
      "tensor(0.7311)\n"
     ]
    },
    {
     "name": "stderr",
     "output_type": "stream",
     "text": [
      "/tmp/ipykernel_15722/959556421.py:12: UserWarning: Implicit dimension choice for log_softmax has been deprecated. Change the call to include dim=X as an argument.\n",
      "  print(logsoftmax(inputs))\n"
     ]
    }
   ],
   "source": [
    "print(torch.log(inputs.softmax(dim=-1)))\n",
    "print()\n",
    "\n",
    "for i in range(len(inputs)):\n",
    "    denominator = torch.exp(inputs[i]).sum()\n",
    "    for j in range(len(inputs[i])):\n",
    "        inputs[i,j] = torch.log(torch.exp(inputs[i,j])/denominator)\n",
    "print(inputs)\n",
    "print()\n",
    "\n",
    "logsoftmax = nn.LogSoftmax()\n",
    "print(logsoftmax(inputs))"
   ]
  }
 ],
 "metadata": {
  "kernelspec": {
   "display_name": "torch",
   "language": "python",
   "name": "python3"
  },
  "language_info": {
   "codemirror_mode": {
    "name": "ipython",
    "version": 3
   },
   "file_extension": ".py",
   "mimetype": "text/x-python",
   "name": "python",
   "nbconvert_exporter": "python",
   "pygments_lexer": "ipython3",
   "version": "3.8.13 (default, Mar 28 2022, 11:38:47) \n[GCC 7.5.0]"
  },
  "orig_nbformat": 4,
  "vscode": {
   "interpreter": {
    "hash": "65fe116ec29312474b580f4ecbad52a94f46ea3a142b15e85ff8e68848a207e7"
   }
  }
 },
 "nbformat": 4,
 "nbformat_minor": 2
}
