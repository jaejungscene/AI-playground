{
 "cells": [
  {
   "cell_type": "code",
   "execution_count": 7,
   "metadata": {},
   "outputs": [],
   "source": [
    "import torch\n",
    "import torch.nn as nn\n",
    "import numpy as np"
   ]
  },
  {
   "attachments": {},
   "cell_type": "markdown",
   "metadata": {},
   "source": [
    "# Batch Norm"
   ]
  },
  {
   "cell_type": "code",
   "execution_count": 9,
   "metadata": {},
   "outputs": [
    {
     "name": "stdout",
     "output_type": "stream",
     "text": [
      "0.9999950000374997\n",
      "-0.9999950000374997\n"
     ]
    }
   ],
   "source": [
    "print(1/np.sqrt(1+1e-5))\n",
    "print(-1/np.sqrt(1+1e-5))"
   ]
  },
  {
   "cell_type": "code",
   "execution_count": 25,
   "metadata": {},
   "outputs": [
    {
     "name": "stdout",
     "output_type": "stream",
     "text": [
      "tensor([[[[3., 4.],\n",
      "          [5., 6.]]],\n",
      "\n",
      "\n",
      "        [[[1., 2.],\n",
      "          [3., 4.]]]])\n",
      "torch.Size([2, 1, 2, 2])\n",
      "==================================================\n",
      "tensor([[[[-0.3333,  0.3333],\n",
      "          [ 1.0000,  1.6667]]],\n",
      "\n",
      "\n",
      "        [[[-1.6667, -1.0000],\n",
      "          [-0.3333,  0.3333]]]], grad_fn=<NativeBatchNormBackward0>)\n",
      "torch.Size([2, 1, 2, 2])\n",
      "==================================================\n",
      "tensor(3.5000)\n",
      "tensor(2.2500)\n",
      "tensor([[[[-0.3333,  0.3333],\n",
      "          [ 1.0000,  1.6667]]],\n",
      "\n",
      "\n",
      "        [[[-1.6667, -1.0000],\n",
      "          [-0.3333,  0.3333]]]])\n"
     ]
    }
   ],
   "source": [
    "x = torch.Tensor([\n",
    "    [[\n",
    "        [3,4],\n",
    "        [5,6]\n",
    "    ]]\n",
    "    ,\n",
    "    [[\n",
    "        [1,2],\n",
    "        [3,4]\n",
    "    ]]\n",
    "])\n",
    "print(x)\n",
    "print(x.shape)\n",
    "print('='*50)\n",
    "\n",
    "\n",
    "out = nn.BatchNorm2d(x.shape[1])(x)\n",
    "print(out)\n",
    "print(out.shape)\n",
    "print('='*50)\n",
    "\n",
    "# torch.var is 'biased' estimator of population's variance\n",
    "\"\"\"\n",
    "all batch is normalized in Batch Norm\n",
    "\"\"\"\n",
    "mean = torch.mean(torch.Tensor(x))\n",
    "var = torch.var(torch.Tensor(x), unbiased=False)\n",
    "print(mean)\n",
    "print(var)\n",
    "print( (x-mean)/torch.sqrt(var+1e-05) )"
   ]
  },
  {
   "attachments": {},
   "cell_type": "markdown",
   "metadata": {},
   "source": [
    "# Layer Norm"
   ]
  },
  {
   "cell_type": "code",
   "execution_count": 45,
   "metadata": {},
   "outputs": [
    {
     "name": "stdout",
     "output_type": "stream",
     "text": [
      "tensor([[[1., 2., 3.],\n",
      "         [4., 5., 7.]]])\n",
      "torch.Size([1, 2, 3])\n",
      "==================================================\n",
      "tensor([[[-1.2247,  0.0000,  1.2247],\n",
      "         [-1.0690, -0.2673,  1.3363]]], grad_fn=<NativeLayerNormBackward0>)\n",
      "torch.Size([1, 2, 3])\n",
      "==================================================\n",
      "tensor([-1.2247,  0.0000,  1.2247])\n",
      "tensor([-1.0690, -0.2673,  1.3363])\n"
     ]
    }
   ],
   "source": [
    "x = torch.Tensor([[\n",
    "    [1,2,3],\n",
    "    [4,5,7],\n",
    "]])\n",
    "print(x)\n",
    "print(x.shape)\n",
    "print('='*50)\n",
    "\n",
    "out = nn.LayerNorm(x.shape[-1])(x)\n",
    "print(out)\n",
    "print(out.shape)\n",
    "print('='*50)\n",
    "\n",
    "\"\"\"\n",
    "each layer is normalized in Layer Norm\n",
    "\"\"\"\n",
    "for i in range(len(x[0])):\n",
    "    mean = torch.mean(x[0][i])\n",
    "    var = torch.var(x[0][i], unbiased=False)\n",
    "    print((x[0][i]-mean)/torch.sqrt(var+1e-5))"
   ]
  }
 ],
 "metadata": {
  "kernelspec": {
   "display_name": "torch",
   "language": "python",
   "name": "python3"
  },
  "language_info": {
   "codemirror_mode": {
    "name": "ipython",
    "version": 3
   },
   "file_extension": ".py",
   "mimetype": "text/x-python",
   "name": "python",
   "nbconvert_exporter": "python",
   "pygments_lexer": "ipython3",
   "version": "3.8.13 (default, Mar 28 2022, 11:38:47) \n[GCC 7.5.0]"
  },
  "orig_nbformat": 4,
  "vscode": {
   "interpreter": {
    "hash": "65fe116ec29312474b580f4ecbad52a94f46ea3a142b15e85ff8e68848a207e7"
   }
  }
 },
 "nbformat": 4,
 "nbformat_minor": 2
}
